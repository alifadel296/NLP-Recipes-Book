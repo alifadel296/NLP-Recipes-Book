{
 "cells": [
  {
   "cell_type": "markdown",
   "metadata": {
    "vscode": {
     "languageId": "plaintext"
    }
   },
   "source": [
    "# Import Libraries"
   ]
  },
  {
   "cell_type": "code",
   "execution_count": 3,
   "metadata": {},
   "outputs": [],
   "source": [
    "import gensim\n",
    "from gensim.models import Word2Vec\n",
    "import numpy as np\n",
    "import nltk\n",
    "import itertools\n",
    "from nltk.corpus import stopwords\n",
    "from nltk.tokenize import sent_tokenize, word_tokenize\n",
    "import scipy\n",
    "from scipy import spatial\n",
    "from nltk.tokenize.toktok import ToktokTokenizer\n",
    "import re\n",
    "from nltk.corpus import stopwords"
   ]
  },
  {
   "cell_type": "code",
   "execution_count": 4,
   "metadata": {},
   "outputs": [],
   "source": [
    "tokenizer = ToktokTokenizer()\n",
    "stopwords_list = stopwords.words(\"english\")"
   ]
  },
  {
   "cell_type": "markdown",
   "metadata": {},
   "source": [
    "# Randomly Dataset"
   ]
  },
  {
   "cell_type": "code",
   "execution_count": 5,
   "metadata": {},
   "outputs": [],
   "source": [
    "Doc1 = [\n",
    "    \"With the Union cabinet approving the amendments to the\\\n",
    "Motor Vehicles Act, 2016, those caught for drunken driving will\\\n",
    "have to have really deep pockets, as the fine payable in court\\\n",
    "has been enhanced to Rs 10,000 for first-time offenders.\"\n",
    "]\n",
    "Doc2 = [\n",
    "    \"Natural language processing (NLP) is an area of\\\n",
    "computer science and artificial intelligence concerned with the\\\n",
    "interactions between computers and human (natural) languages,\\\n",
    "in particular how to program computers to process and analyze\\\n",
    "large amounts of natural language data.\"\n",
    "]\n",
    "Doc3 = [\n",
    "    \"He points out that public transport is very good in\\\n",
    "Mumbai and New Delhi, where there is a good network of suburban\\\n",
    "and metro rail systems.\"\n",
    "]\n",
    "Doc4 = [\n",
    "    \"But the man behind the wickets at the other end was\\\n",
    "watching just as keenly. With an affirmative nod from Dhoni,\\\n",
    "India captain Rohit Sharma promptly asked for a review. Sure\\\n",
    "enough, the ball would have clipped the top of middle and leg.\"\n",
    "]"
   ]
  },
  {
   "cell_type": "code",
   "execution_count": 6,
   "metadata": {},
   "outputs": [],
   "source": [
    "fin = Doc1 + Doc2 + Doc3 + Doc4"
   ]
  },
  {
   "cell_type": "code",
   "execution_count": 7,
   "metadata": {},
   "outputs": [],
   "source": [
    "# load the Word2Vec model\n",
    "# you can download this model from here https://drive.google.com/file/d/0B7XkCwpI5KDYNlNUTTlSS21pQmM/edit\n",
    "model = gensim.models.KeyedVectors.load_word2vec_format(\n",
    "    \"GoogleNews-vectors-negative300.bin\", binary=True\n",
    ")"
   ]
  },
  {
   "cell_type": "markdown",
   "metadata": {},
   "source": [
    "# Preprocessing"
   ]
  },
  {
   "cell_type": "code",
   "execution_count": 88,
   "metadata": {},
   "outputs": [],
   "source": [
    "def remove_stopwords(text, is_lower_case=False):\n",
    "    pattern = r\"[^a-zA-z-0-9\\s]\"\n",
    "    text = re.sub(pattern, '', ''.join(text))\n",
    "    tokens = tokenizer.tokenize(text)\n",
    "    text = [token.strip for token in tokens]\n",
    "    if is_lower_case:\n",
    "        filtered_tokens = [token for token in tokens if token not in stopwords_list]\n",
    "    else:\n",
    "        filtered_tokens = [\n",
    "            token for token in tokens if token.lower() not in stopwords_list\n",
    "        ]\n",
    "    filtered_text = \" \".join(filtered_tokens)\n",
    "    print(filtered_text)\n",
    "    return filtered_text"
   ]
  },
  {
   "cell_type": "markdown",
   "metadata": {},
   "source": [
    "# Get Embeddings vector for N dimensions"
   ]
  },
  {
   "cell_type": "code",
   "execution_count": 89,
   "metadata": {},
   "outputs": [],
   "source": [
    "def get_embedding(word):\n",
    "    if word in model:\n",
    "        return model[word]\n",
    "    else:\n",
    "        return np.zeros(300)"
   ]
  },
  {
   "cell_type": "markdown",
   "metadata": {},
   "source": [
    "# Getting the average vector for each document"
   ]
  },
  {
   "cell_type": "code",
   "execution_count": null,
   "metadata": {},
   "outputs": [],
   "source": [
    "out_dict = {}\n",
    "for sen in fin:\n",
    "    average_vector = np.mean(\n",
    "        np.array(\n",
    "            [get_embedding(x) for x in word_tokenize(remove_stopwords(sen))],\n",
    "            dtype=float,\n",
    "        ),\n",
    "        axis=0,\n",
    "    )\n",
    "    dict = {sen: (average_vector)}\n",
    "    out_dict.update(dict)"
   ]
  },
  {
   "cell_type": "markdown",
   "metadata": {},
   "source": [
    "# Calculate the similarity between the query vector and document vector"
   ]
  },
  {
   "cell_type": "code",
   "execution_count": 97,
   "metadata": {},
   "outputs": [],
   "source": [
    "def get_sim(query_embedding, average_vector):\n",
    "    sim = [(1 - scipy.spatial.distance.cosine(query_embedding, average_vector))]\n",
    "    return sim"
   ]
  },
  {
   "cell_type": "markdown",
   "metadata": {},
   "source": [
    "# Ranking the documents and query using word embeddings"
   ]
  },
  {
   "cell_type": "code",
   "execution_count": 98,
   "metadata": {},
   "outputs": [],
   "source": [
    "def randDocuments(query):\n",
    "    query_words = np.mean(\n",
    "        np.array([get_embedding(x) for x in word_tokenize(query.lower())], dtype=float),\n",
    "        axis=0,\n",
    "    )\n",
    "    rank = []\n",
    "    for k, v in out_dict.items():\n",
    "        rank.append((k, get_sim(query_words, v)))\n",
    "    rank = sorted(rank, key=lambda x: x[1], reverse=True)\n",
    "    print(\"Ranked Documents : \")\n",
    "    return rank"
   ]
  },
  {
   "cell_type": "code",
   "execution_count": null,
   "metadata": {},
   "outputs": [],
   "source": [
    "randDocuments(\"cricket\")"
   ]
  }
 ],
 "metadata": {
  "kernelspec": {
   "display_name": "work",
   "language": "python",
   "name": "work"
  },
  "language_info": {
   "codemirror_mode": {
    "name": "ipython",
    "version": 3
   },
   "file_extension": ".py",
   "mimetype": "text/x-python",
   "name": "python",
   "nbconvert_exporter": "python",
   "pygments_lexer": "ipython3",
   "version": "3.12.3"
  }
 },
 "nbformat": 4,
 "nbformat_minor": 2
}
